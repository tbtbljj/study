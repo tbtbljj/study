{
 "cells": [
  {
   "cell_type": "markdown",
   "metadata": {},
   "source": [
    "# 为什么学习Jupyter notebook？"
   ]
  },
  {
   "cell_type": "markdown",
   "metadata": {},
   "source": [
    "* 能够编辑、解释运行`python`文件的程序：\n",
    "  * `python`安装自带的`IDLE`、`Pycharm`、`Spyder`、`Thonny`等\n",
    "  * `Jupyter notebook`：\n",
    "    * 用`python`进行数据分析、机器学习的必备工具，特别适合撰写`python`学习文档\n",
    "    * 能够独立运行一个、几个或者全部`python`代码块，能够看到中间变量的值，易于调试\n",
    "    * 支持`markdown`语法\n",
    "    * 能够调用`Ipython`丰富的**魔法函数**，如：程序计时、重复运行、显示图片等\n",
    "    * 写好的代码和文档能够以网页和`ppt`形式**在线分享**\n",
    "    * 可以在远程服务器运行，不需要本地安装配置各种环境\n",
    "    * 文件扩展名`.ipynb`\n",
    "    * 能够运行`Julia、python、R、Javascript`等编程语言\n",
    "    * “文学编程”：集编程和写作于一身"
   ]
  },
  {
   "cell_type": "markdown",
   "metadata": {},
   "source": [
    "## Ipython\n",
    "* 更高级的`python`解释器：\n",
    "  * 相比原生的`python`交互式命令行，`Ipython`具有命令计数、自动补全等功能\n",
    "* `Jupyter notebook`基于`Ipython`内核，能够在浏览器中以网页形式运行`python`代码\n",
    "* `Spyder`也是基于`Ipython`内核"
   ]
  },
  {
   "cell_type": "markdown",
   "metadata": {},
   "source": [
    "## Jupyter notebook的安装\n",
    "* 安装`Anaconda`，其自带`Jupyter notebook`\n",
    "* "
   ]
  },
  {
   "cell_type": "markdown",
   "metadata": {},
   "source": [
    "## Jupyter notebook的运行\n",
    "* \n",
    "* 点击`New`,接着点击：\n",
    "  * `Python3`：创建`python`文档\n",
    "  * `Folder`：创建新文件夹\n",
    "  * `Text File`：创建`.txt`文件\n",
    "  * `Terminal`：打开终端，可以使用相应的命令进行目录切换、解压文件等操作\n",
    "![新建文件](./新建文件.png)"
   ]
  },
  {
   "cell_type": "markdown",
   "metadata": {},
   "source": [
    "## Jupyter notebook的第一行python代码\n",
    "* 点击左上角的`Untitled`，重命名新建的`python`文档文件\n",
    "![重命名](./rename.png)\n",
    "* 在`Cell`中输入第一行`python`代码，通过`Shift+Enter`运行\n",
    "![hello world](./hello world.png)"
   ]
  },
  {
   "cell_type": "markdown",
   "metadata": {},
   "source": [
    "## Jupyter notebook的两种模式\n",
    "* 命令模式：\n",
    "  * 单元格左侧显示**蓝色**竖线\n",
    "  * 执行键盘输入的**快捷命令**，如：新增、剪切、复制单元格等\n",
    "  * 可以通过`ESC`键从编辑模式切换到命令模式\n",
    "* 编辑模式：\n",
    "  * 单元格左侧显示**绿色**竖线\n",
    "  * 编辑文档和代码\n",
    "  * 选中单元格并通过`Enter`键从命令模式切换到编辑模式\n",
    "* 命令模式和编辑模式源自`vim`编辑器"
   ]
  },
  {
   "cell_type": "markdown",
   "metadata": {},
   "source": [
    "## Jupyter notebook的两种单元格\n",
    "* 代码单元格：\n",
    "  * 在此单元格编辑代码\n",
    "  * 通过`Shift+Enter`键来运行代码，在此单元格下面显示运行结果\n",
    "  * 单元格左边有`In [1]:`这样的标记，方便查看代码的运行次序\n",
    "  * 在命令模式下，通过`y`键将`markdown`单元格切换为代码单元格\n",
    "* `markdown`单元格：\n",
    "  * 在此单元格编辑文档，采用`markdown`语法，可以设置文本格式、引用、插入链接、图片或者数学公式\n",
    "  * 通过`Shift+Enter`键来显示渲染后的文档\n",
    "  * 在命令模式下，通过`m`键将代码单元格切换为`markdown`单元格\n",
    "* `markdown`简介：\n",
    "  * 程序员通用的撰写文档的语法，简洁易学\n",
    "  * `github`网站、有道云笔记、简书、知乎、`CSDN`论坛、电子邮件等均支持`markdown`语法\n",
    "  * 简单语法：\n",
    "    * 引用：`>`后面接引用内容，所在行开头显示灰色竖线\n",
    "    * 链接：`[`链接的描述内容`]`加上`(`具体的链接`)`\n",
    "    * 图片：`![`图片的描述内容`]`加上`(`图片的地址`)`\n",
    "    * 公式：\n",
    "      * 行内：$E=mc^2$\n",
    "      * 行间：$$x = \\frac{-b\\pm \\sqrt{b^2-4ac}}{2a}$$"
   ]
  },
  {
   "cell_type": "markdown",
   "metadata": {},
   "source": [
    "## Jupyter notebook的常用快捷键\n",
    "* 常用的快捷键\n",
    "  * `h`：在命令模式下，查看所有快捷键\n",
    "  * `Enter`：从命令模式切换到编辑模式\n",
    "  * `ESC`：从编辑模式切换到命令模式\n",
    "  * `m`：在命令模式下，将代码单元格转换为`markdown`单元格\n",
    "  * `y`：在命令模式下，将`markdown`单元格转换为代码单元格\n",
    "  * `Shift+Enter`：运行本单元格，选择下面的单元格\n",
    "  * `Ctrl+Enter`：运行选择的单元格\n",
    "  * `Alt+Enter`：运行本单元格，在下面新建一个单元格\n",
    "  * `a`：在命令模式下，在本单元格上面新建一个单元格\n",
    "  * `b`：在命令模式下，在本单元格下面新建一个单元格\n",
    "  * `d+d`：在命令模式下，删除选中的单元格\n",
    "  * `x`：在命令模式下，剪切选中的单元格\n",
    "  * `c`：在命令模式下，复制选中的单元格\n",
    "  * `Shift+v`：在命令模式下，粘贴到本单元格上面\n",
    "  * `v`：在命令模式下，粘贴到本单元格下面\n",
    "  * `l`：在命令模式下，显示/撤销单元格中内容的行号\n",
    "* 命令模式下的所有快捷键\n",
    "![命令模式快捷键](./命令模式快捷键1.png)\n",
    "![命令模式快捷键](./命令模式快捷键2.png)\n",
    "![命令模式快捷键](./命令模式快捷键3.png)\n",
    "* 编辑模式下的所有快捷键\n",
    "![编辑模式快捷键](./编辑模式快捷键1.png)\n",
    "![编辑模式快捷键](./编辑模式快捷键2.png)"
   ]
  }
 ],
 "metadata": {
  "kernelspec": {
   "display_name": "Python 3",
   "language": "python",
   "name": "python3"
  },
  "language_info": {
   "codemirror_mode": {
    "name": "ipython",
    "version": 3
   },
   "file_extension": ".py",
   "mimetype": "text/x-python",
   "name": "python",
   "nbconvert_exporter": "python",
   "pygments_lexer": "ipython3",
   "version": "3.6.5"
  }
 },
 "nbformat": 4,
 "nbformat_minor": 2
}
